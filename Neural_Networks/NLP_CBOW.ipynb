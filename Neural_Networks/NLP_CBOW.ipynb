{
  "nbformat": 4,
  "nbformat_minor": 0,
  "metadata": {
    "kernelspec": {
      "display_name": "Python 3",
      "language": "python",
      "name": "python3"
    },
    "language_info": {
      "codemirror_mode": {
        "name": "ipython",
        "version": 3
      },
      "file_extension": ".py",
      "mimetype": "text/x-python",
      "name": "python",
      "nbconvert_exporter": "python",
      "pygments_lexer": "ipython3",
      "version": "3.6.3"
    },
    "colab": {
      "name": "Копия блокнота \"mid_ml_nlp_hw-3.ipynb\"",
      "provenance": [],
      "collapsed_sections": []
    }
  },
  "cells": [
    {
      "cell_type": "markdown",
      "metadata": {
        "id": "vGhDg4qLnDYW"
      },
      "source": [
        "## Урок 3 \n",
        "\n",
        "### Задание начального уровня\n",
        "\n",
        "Потренируйтесь в нахождении матрицы схожести для валидационного сета\n",
        "\n",
        "* загрузите `brand_tweets_valid.csv`\n",
        "* примените объект `vectorizer`, обученный на датасете `brand_tweets.csv` (просто скопируйте этот код из урока)\n",
        "* примените функцию `pairwise_distances` к полученной матрице"
      ]
    },
    {
      "cell_type": "code",
      "metadata": {
        "id": "krkc6JvTnDYa",
        "colab": {
          "base_uri": "https://localhost:8080/",
          "height": 239
        },
        "outputId": "9216696c-f1be-46a8-9109-22ffc22de9e4"
      },
      "source": [
        "import pandas as pd\n",
        "import nltk\n",
        "import string\n",
        "from itertools import chain\n",
        "import numpy as np\n",
        "\n",
        "df_valid = pd.read_csv('sample_data/brand_tweets_valid.csv', sep=',', encoding='utf8')\n",
        "# удаляем строки, в которых отсутствует текст твита\n",
        "df_valid.drop(df_valid[df_valid.tweet_text.isnull()].index, inplace=True)\n",
        "\n",
        "nltk.download('punkt', download_dir='.')\n",
        "\n",
        "\n",
        "df_valid.head()\n",
        "\n"
      ],
      "execution_count": 10,
      "outputs": [
        {
          "output_type": "stream",
          "name": "stdout",
          "text": [
            "[nltk_data] Downloading package punkt to ....\n",
            "[nltk_data]   Package punkt is already up-to-date!\n"
          ]
        },
        {
          "output_type": "execute_result",
          "data": {
            "text/html": [
              "<div>\n",
              "<style scoped>\n",
              "    .dataframe tbody tr th:only-of-type {\n",
              "        vertical-align: middle;\n",
              "    }\n",
              "\n",
              "    .dataframe tbody tr th {\n",
              "        vertical-align: top;\n",
              "    }\n",
              "\n",
              "    .dataframe thead th {\n",
              "        text-align: right;\n",
              "    }\n",
              "</style>\n",
              "<table border=\"1\" class=\"dataframe\">\n",
              "  <thead>\n",
              "    <tr style=\"text-align: right;\">\n",
              "      <th></th>\n",
              "      <th>tweet_text</th>\n",
              "      <th>emotion_in_tweet_is_directed_at</th>\n",
              "      <th>is_there_an_emotion_directed_at_a_brand_or_product</th>\n",
              "    </tr>\n",
              "  </thead>\n",
              "  <tbody>\n",
              "    <tr>\n",
              "      <th>0</th>\n",
              "      <td>Wow! Google maps for mobile v5 demo at #sxsw. ...</td>\n",
              "      <td>Other Google product or service</td>\n",
              "      <td>Positive emotion</td>\n",
              "    </tr>\n",
              "    <tr>\n",
              "      <th>1</th>\n",
              "      <td>The #google name was built on gettinng stuff o...</td>\n",
              "      <td>Google</td>\n",
              "      <td>Positive emotion</td>\n",
              "    </tr>\n",
              "    <tr>\n",
              "      <th>2</th>\n",
              "      <td>&amp;quot;Apple opening a temporary store in Austi...</td>\n",
              "      <td>NaN</td>\n",
              "      <td>No emotion toward brand or product</td>\n",
              "    </tr>\n",
              "    <tr>\n",
              "      <th>3</th>\n",
              "      <td>#tech Apple Opening Pop-Up Store In Austin For...</td>\n",
              "      <td>Apple</td>\n",
              "      <td>Positive emotion</td>\n",
              "    </tr>\n",
              "    <tr>\n",
              "      <th>4</th>\n",
              "      <td>GSDM Google party is off the hook! #SXSW  {link}</td>\n",
              "      <td>Google</td>\n",
              "      <td>Positive emotion</td>\n",
              "    </tr>\n",
              "  </tbody>\n",
              "</table>\n",
              "</div>"
            ],
            "text/plain": [
              "                                          tweet_text  ... is_there_an_emotion_directed_at_a_brand_or_product\n",
              "0  Wow! Google maps for mobile v5 demo at #sxsw. ...  ...                                   Positive emotion\n",
              "1  The #google name was built on gettinng stuff o...  ...                                   Positive emotion\n",
              "2  &quot;Apple opening a temporary store in Austi...  ...                 No emotion toward brand or product\n",
              "3  #tech Apple Opening Pop-Up Store In Austin For...  ...                                   Positive emotion\n",
              "4   GSDM Google party is off the hook! #SXSW  {link}  ...                                   Positive emotion\n",
              "\n",
              "[5 rows x 3 columns]"
            ]
          },
          "metadata": {},
          "execution_count": 10
        }
      ]
    },
    {
      "cell_type": "code",
      "metadata": {
        "id": "CCpzu6wocgDZ"
      },
      "source": [
        "stop_words = [\n",
        "    'i', 'me', 'my', 'myself', 'we', 'our', 'ours', 'ourselves', 'you', \"you're\", \"you've\", \"you'll\", \"you'd\",\n",
        "    'your', 'yours', 'yourself', 'yourselves', 'he', 'him', 'his', 'himself', 'she', \"she's\", 'her', 'hers',\n",
        "    'herself', 'it', \"it's\", 'its', 'itself', 'they', 'them', 'their', 'theirs', 'themselves', 'what', 'which',\n",
        "    'who', 'whom', 'this', 'that', \"that'll\", 'these', 'those', 'am', 'is', 'are', 'was', 'were', 'be', 'been',\n",
        "    'being', 'have', 'has', 'had', 'having', 'do', 'does', 'did', 'doing', 'a', 'an', 'the', 'and', 'but', 'if',\n",
        "    'or', 'because', 'as', 'until', 'while', 'of', 'at', 'by', 'for', 'with', 'about', 'against', 'between',\n",
        "    'into', 'through', 'during', 'before', 'after', 'above', 'below', 'to', 'from', 'up', 'down', 'in', 'out',\n",
        "    'on', 'off', 'over', 'under', 'again', 'further', 'then', 'once', 'here', 'there', 'when', 'where', 'why',\n",
        "    'how', 'all', 'any', 'both', 'each', 'few', 'more', 'most', 'other', 'some', 'such', 'no', 'nor', 'not',\n",
        "    'only', 'own', 'same', 'so', 'than', 'too', 'very', 's', 't', 'can', 'will', 'just', 'don', \"don't\", 'shold',\n",
        "    \"should've\", 'now', 'd', 'll', 'm', 'o', 're', 've', 'y', 'ain', 'aren', \"aren't\", 'couldn', \"couldn't\",\n",
        "    'didn', \"didn't\", 'doesn', \"doesn't\", 'hadn', \"hadn't\", 'hasn', \"hasn't\", 'haven', \"haven't\", 'isn', \"isn't\",\n",
        "    'ma', 'mightn', \"mightn't\", 'mustn', \"mustn't\", 'needn', \"needn't\", 'shan', \"shan't\", 'shouldn', \"shouldn't\",\n",
        "    'wasn', \"wasn't\", 'weren', \"weren't\", 'won', \"won't\", 'wouldn', \"wouldn't\"\n",
        "]"
      ],
      "execution_count": 7,
      "outputs": []
    },
    {
      "cell_type": "code",
      "metadata": {
        "colab": {
          "base_uri": "https://localhost:8080/"
        },
        "id": "UzPSpdC_bPkA",
        "outputId": "d77dcdc1-04d4-4252-e774-7d45e8deb93c"
      },
      "source": [
        "def tokenize_text(raw_text: str):\n",
        "    \"\"\"Функция для токенизации текста\n",
        "    :param raw_text: исходная текстовая строка\n",
        "    \"\"\"\n",
        "    tokenized_str = nltk.word_tokenize(raw_text)\n",
        "    tokens = [i.lower() for i in tokenized_str if ( i not in string.punctuation )]\n",
        "    filtered_tokens = [i for i in tokens if ( i not in stop_words )]\n",
        "    return filtered_tokens\n",
        "\n",
        "# применяем функцию в датафрейму с помощью метода .apply()\n",
        "tokenized_tweets= df_valid.tweet_text.apply(tokenize_text)\n",
        "\n",
        "# добавляем новую колонку в исходный датафрейм\n",
        "df_valid = df_valid.assign(\n",
        "    tokenized=tokenized_tweets\n",
        ")\n",
        "\n",
        "df_valid.tokenized.head()"
      ],
      "execution_count": 8,
      "outputs": [
        {
          "output_type": "execute_result",
          "data": {
            "text/plain": [
              "0    [wow, google, maps, mobile, v5, demo, sxsw, nice]\n",
              "1    [google, name, built, gettinng, stuff, trying,...\n",
              "2    [quot, apple, opening, temporary, store, austi...\n",
              "3    [tech, apple, opening, pop-up, store, austin, ...\n",
              "4              [gsdm, google, party, hook, sxsw, link]\n",
              "Name: tokenized, dtype: object"
            ]
          },
          "metadata": {},
          "execution_count": 8
        }
      ]
    },
    {
      "cell_type": "code",
      "metadata": {
        "colab": {
          "base_uri": "https://localhost:8080/"
        },
        "id": "r3UQr0ESeVna",
        "outputId": "d381b64d-6f6c-4aa0-bf14-e2a776af993d"
      },
      "source": [
        "from sklearn.feature_extraction.text import CountVectorizer\n",
        "# инициализируем объект, который токенизирует наш текст\n",
        "# в качестве единственного аргимента передаём функцию, которую мы написали в Уроке 2\n",
        "# на разбивает каждый документ на токены\n",
        "vectorizer = CountVectorizer(tokenizer=tokenize_text)\n",
        "# применяем наш объект-токенизатор к датафрейму с твитами\n",
        "document_matrix = vectorizer.fit_transform(df.tweet_text.values)\n",
        "# результат - матрица, в которой находятся числа, строк в мастрице столько, сколько документов\n",
        "# а столбцов столько, сколько токенов\n",
        "document_matrix"
      ],
      "execution_count": 11,
      "outputs": [
        {
          "output_type": "execute_result",
          "data": {
            "text/plain": [
              "<402x1765 sparse matrix of type '<class 'numpy.int64'>'\n",
              "\twith 4922 stored elements in Compressed Sparse Row format>"
            ]
          },
          "metadata": {},
          "execution_count": 11
        }
      ]
    },
    {
      "cell_type": "markdown",
      "metadata": {
        "id": "RQ7_b8FbnDYg"
      },
      "source": [
        "### Задание среднего уровня\n",
        "\n",
        "Пользуясь матрицей схожести, полученной на предыдущем этапе, найдите top-5 твитов, похожих на твит валидационного сета с `id=14`."
      ]
    },
    {
      "cell_type": "code",
      "metadata": {
        "id": "SgmUriXSnDYh",
        "colab": {
          "base_uri": "https://localhost:8080/"
        },
        "outputId": "0db11e2c-3099-4729-f108-b8cc88e93d23"
      },
      "source": [
        "test_tweet_index = 14\n",
        "\n",
        "print(df_valid.iloc[test_tweet_index].tweet_text+'\\n------------------------------\\n')\n",
        "\n",
        "\n",
        "\n",
        "from sklearn.metrics import pairwise_distances\n",
        "\n",
        "tweet_distance = 1-pairwise_distances(document_matrix, metric=\"cosine\")\n",
        "\n",
        "print(tweet_distance)"
      ],
      "execution_count": 21,
      "outputs": [
        {
          "output_type": "stream",
          "name": "stdout",
          "text": [
            "Popup Apple Store crew has been giving out water to the people in line but they are in street clothes. No Apple logos anywhere yet. #SXSW\n",
            "------------------------------\n",
            "\n",
            "[[1.         0.21320072 0.17149859 ... 0.18898224 0.16222142 0.21320072]\n",
            " [0.21320072 1.         0.14625448 ... 0.24174689 0.20751434 0.18181818]\n",
            " [0.17149859 0.14625448 1.         ... 0.12964074 0.27820744 0.14625448]\n",
            " ...\n",
            " [0.18898224 0.24174689 0.12964074 ... 1.         0.1839418  0.16116459]\n",
            " [0.16222142 0.20751434 0.27820744 ... 0.1839418  1.         0.13834289]\n",
            " [0.21320072 0.18181818 0.14625448 ... 0.16116459 0.13834289 1.        ]]\n"
          ]
        }
      ]
    },
    {
      "cell_type": "code",
      "metadata": {
        "id": "mJV9ebsfr-cF",
        "colab": {
          "base_uri": "https://localhost:8080/"
        },
        "outputId": "13ed42ad-7629-413a-f8fe-2cbead5c9777"
      },
      "source": [
        "import numpy as np\n",
        "\n",
        "test_tweet_index = 14\n",
        "# отсортируем твиты по “похожести” - чем похожее на source_tweet_index,\n",
        "# тем ближе к началу списка sorted_similarity\n",
        "sorted_similarity = np.argsort(-tweet_distance[test_tweet_index,:])\n",
        "\n",
        "print(sorted_similarity)"
      ],
      "execution_count": 39,
      "outputs": [
        {
          "output_type": "stream",
          "name": "stdout",
          "text": [
            "[ 14 132  16 163   6 341  65  23 226  72  63 357 395  62 319 192   3  15\n",
            " 238 121  12 390  55  24 205 260 129  51 297  64 206 279  67   2 158 313\n",
            " 203 231 118 134  22 212 377 400 321 351 131 135 186  99 293 292 310 204\n",
            "  13  21 384   5  20  68 358 354 207  78 225  31 224 123 287  53 120 331\n",
            " 275 109 136 381  29  69  58 288 328 296 133 330  88  17 259 380  35 215\n",
            " 352 314  49  42  28 300 219  98  71  81  47 301 361 138 139 195 150 200\n",
            " 343 190 342 329 348 211 383 148 147 335  79 336 245 291  18 235 122 295\n",
            " 240 251 359  66 389  33  27 216 199  19 246 168 227 145   4 157  75 276\n",
            " 127 391 272 385 156 345 114 210 100 282  36 265 155 170 277 278 311 386\n",
            " 247 375 376 180 217   0  87  73  70 151 167 124 119 374 198  91 160 125\n",
            " 298  85  84 281 337 197 344 347 364 254 369 261 105 258 255 142 228 284\n",
            " 289 173 339 185 175 214  97  56 346 285 252 115 308 379  30   1 318 401\n",
            " 201 140 179 213 176  74  61 290  95 101 104 256  46 356  41 316 271 257\n",
            " 263   8 253  86 268  52  93 388  50 340 184 368  59 394 312 103 283 338\n",
            " 164 161  34 126 317 269 397 264 299 332 152 366  83 242 177 382 229 116\n",
            " 367   7 399 250   9 302 146 398 320  80 194 309 183 162 306 193 396  54\n",
            " 159 237 113  40 111 110 174 355 333 262 372 221  57 153 267 349 365 362\n",
            " 360  10  76  43  37  38 325 322 181 189  11  77 209 243 143 315 202 266\n",
            " 273 230 220  94  90 274  25 130 191  48  82 241 144 353 373 270 234 334\n",
            " 280 182 154 327 102 239 171 307 244 371 305 108  89 196 387 223 165 106\n",
            " 222 324  44  92 128  26 370 149 166 323 286  96 304  32  60 178 112  39\n",
            " 107 233 350  45 249 294 236 363 187 326 117 303 248 392 232 218 378 188\n",
            " 172 137 208 141 393 169]\n"
          ]
        }
      ]
    },
    {
      "cell_type": "code",
      "metadata": {
        "colab": {
          "base_uri": "https://localhost:8080/"
        },
        "id": "GV05qC7Hfkoi",
        "outputId": "31e0062f-7128-42de-8910-ae60d286c871"
      },
      "source": [
        "print(df_valid.iloc[14].tweet_text)\n",
        "print('-------------')\n",
        "print(df_valid.iloc[sorted_similarity[1]].tweet_text)\n",
        "print('-------------')\n",
        "print(df_valid.iloc[sorted_similarity[2]].tweet_text)\n",
        "print('-------------')\n",
        "print(df_valid.iloc[sorted_similarity[3]].tweet_text)"
      ],
      "execution_count": 31,
      "outputs": [
        {
          "output_type": "stream",
          "name": "stdout",
          "text": [
            "Popup Apple Store crew has been giving out water to the people in line but they are in street clothes. No Apple logos anywhere yet. #SXSW\n",
            "-------------\n",
            "Apple employees just showed up in force to the #SXSW PopUp Apple Store. #iPad2\n",
            "-------------\n",
            "#sxsw apple store run out for the day :( boo apple.\n",
            "-------------\n",
            "video from the popup Apple store: {link} #sxsw #sxswi\n"
          ]
        }
      ]
    },
    {
      "cell_type": "markdown",
      "metadata": {
        "id": "HdW_C-ninDYm"
      },
      "source": [
        "### Задание высокого уровня.\n",
        "\n",
        "У вас есть матрица схожести между объектами. Попробуйте решить задачу поиска дубликатов в тексте\n",
        "\n",
        " Напишите функцию на Python, которая принимает индекс твита, пороговое значение (число от $0.0$ до $1.0$ и матрицу схожести, а затем выводит все твиты, схожесть которых больше, чем пороговое значение."
      ]
    },
    {
      "cell_type": "code",
      "metadata": {
        "id": "tEVocl2mnDYn",
        "colab": {
          "base_uri": "https://localhost:8080/"
        },
        "outputId": "764a27aa-1a9b-4758-effd-fb0672d1e92f"
      },
      "source": [
        "def search_dublicat(index_tweet, level_distance, matrix_distance, data_frame):\n",
        "  raw_distance = matrix_distance[index_tweet]\n",
        "  sorted_raw = raw_distance >level_distance\n",
        "  print(df_valid.tweet_text[sorted_raw])\n",
        "\n",
        "search_dublicat(6, 0.7, tweet_distance, df_valid)\n"
      ],
      "execution_count": 61,
      "outputs": [
        {
          "output_type": "stream",
          "name": "stdout",
          "text": [
            "6    #SXSW Apple Pop Up Store still has iPads in st...\n",
            "Name: tweet_text, dtype: object\n"
          ]
        }
      ]
    },
    {
      "cell_type": "code",
      "metadata": {
        "id": "jNBDyXQwmvrF"
      },
      "source": [
        ""
      ],
      "execution_count": null,
      "outputs": []
    }
  ]
}