{
 "cells": [
  {
   "cell_type": "markdown",
   "metadata": {
    "id": "-smrZewE1tU2"
   },
   "source": [
    "# Урок 6. Многоклассовая классификация.\n",
    "\n",
    "Посмотрим на примере алгоритма логистической регрессии и метода опорных векторов, как работать с различными методами многоклассовой классификации."
   ]
  },
  {
   "cell_type": "markdown",
   "metadata": {
    "id": "S5kQdZzo1tU3"
   },
   "source": [
    "### 1.\n",
    "Вспомните датасет Wine. Загрузите его, разделите на тренировочную и тестовую выборки (random_state=17), используя только [9, 11, 12] признаки."
   ]
  },
  {
   "cell_type": "code",
   "execution_count": 5,
   "metadata": {
    "id": "paB2E5141tU4"
   },
   "outputs": [],
   "source": [
    "from sklearn.datasets import load_wine\n",
    "from sklearn.model_selection import train_test_split\n",
    "import numpy as np\n",
    "import pandas as pd\n",
    "from sklearn.model_selection import train_test_split"
   ]
  },
  {
   "cell_type": "code",
   "execution_count": 58,
   "metadata": {
    "colab": {
     "base_uri": "https://localhost:8080/"
    },
    "id": "LdwwBPqq1tU7",
    "outputId": "c3590312-9d6e-4f05-cf85-b8a763379a70"
   },
   "outputs": [
    {
     "name": "stdout",
     "output_type": "stream",
     "text": [
      "(178, 3)\n"
     ]
    }
   ],
   "source": [
    "wine_dataset = load_wine()\n",
    "\n",
    "x = wine_dataset['data'][:, 8:9]+ wine_dataset['data'][:, 10:13]\n",
    "print(x.shape)\n",
    "y = wine_dataset['target']\n",
    "x_train, x_valid, y_train, y_valid = train_test_split(x, y, random_state=17)\n",
    "\n",
    "\n"
   ]
  },
  {
   "cell_type": "markdown",
   "metadata": {
    "id": "HMLiMOUr1tU9"
   },
   "source": [
    "**Задайте тип кросс-валидации с помощью StratifiedKFold: 5-кратная, random_state=17.**"
   ]
  },
  {
   "cell_type": "code",
   "execution_count": 32,
   "metadata": {
    "id": "OTY-C4me1tU-"
   },
   "outputs": [],
   "source": [
    "from sklearn.model_selection import StratifiedKFold, cross_val_score\n"
   ]
  },
  {
   "cell_type": "code",
   "execution_count": 46,
   "metadata": {
    "id": "LOVHhQ921tVA"
   },
   "outputs": [
    {
     "name": "stdout",
     "output_type": "stream",
     "text": [
      "[0.80555556 0.94444444 0.83333333 0.91428571 1.        ]\n"
     ]
    }
   ],
   "source": [
    "from sklearn.linear_model import LogisticRegression\n",
    "lr = LogisticRegression(penalty='l2', multi_class='ovr', random_state=17)\n",
    "\n",
    "print(cross_val_score(lr, x, y, cv=5))\n"
   ]
  },
  {
   "cell_type": "markdown",
   "metadata": {
    "id": "-2ClbxRe1tVC"
   },
   "source": [
    "### 2.\n",
    "Обучите логистическую регрессию (LogisticRegression) с параметром C по умолчанию и random_state=17. Укажите гиперпараметр multi_class='ovr' - по умолчанию многие классификаторы используют именно его. С помощью cross_val_score сделайте кросс-валидацию (используйте объект skf) и выведите среднюю долю правильных ответов на ней (используйте функцию mean). Отдельно выведите долю правильных ответов на тестовой выборке."
   ]
  },
  {
   "cell_type": "code",
   "execution_count": 42,
   "metadata": {
    "id": "oKxIIFGU1tVE"
   },
   "outputs": [],
   "source": [
    "from sklearn.linear_model import LogisticRegression\n",
    "from sklearn.metrics import accuracy_score\n"
   ]
  },
  {
   "cell_type": "code",
   "execution_count": 55,
   "metadata": {
    "id": "CJhpcgqc1tVJ"
   },
   "outputs": [
    {
     "name": "stdout",
     "output_type": "stream",
     "text": [
      "StratifiedKFold(n_splits=5, random_state=17, shuffle=True)\n",
      "[0.875      0.85714286 0.57142857 1.         0.85714286]\n",
      "[0.75       1.         1.         0.71428571 0.85714286]\n",
      "[0.75       0.71428571 1.         1.         0.85714286]\n",
      "[0.85714286 1.         1.         0.57142857 1.        ]\n",
      "[0.85714286 1.         1.         1.         0.85714286]\n",
      "0.8992063492063492\n"
     ]
    }
   ],
   "source": [
    "lr = LogisticRegression(penalty='l2', multi_class='ovr', random_state=17)\n",
    "\n",
    "skf = StratifiedKFold(n_splits=5, random_state=17, shuffle = True)\n",
    "skf.get_n_splits(x, y)\n",
    "\n",
    "print(skf)\n",
    "accur_score = []\n",
    "\n",
    "for train_index, test_index in skf.split(x, y):\n",
    "    X_train, X_test = x[train_index], x[test_index]\n",
    "    y_train, y_test = y[train_index], y[test_index]\n",
    "    lr_model = lr.fit(X_train, y_train)\n",
    "    y_predict = lr_model.predict(X_test)\n",
    "    accur_score.append(accuracy_score(y_test, y_predict))\n",
    "    print(cross_val_score(lr, X_test, y_test, cv=5))\n",
    "print(np.mean(accur_score))\n",
    "\n"
   ]
  },
  {
   "cell_type": "markdown",
   "metadata": {
    "id": "k2JoC3fB1tVM"
   },
   "source": [
    "### 3.\n",
    "Обучите метод опорных векторов (SVC) с random_state=17 и остальными параметрами по умолчанию. Этот метод при мультиклассовой классификации также использует метод \"ovr\". Сделайте кросс-валидацию (используйте skf) и, как и в предыдущем пункте, выведите среднюю долю правильных ответов на ней. Отдельно выведите долю правильных ответов на тестовой выборке."
   ]
  },
  {
   "cell_type": "code",
   "execution_count": 56,
   "metadata": {
    "id": "50kaD7MQ1tVN"
   },
   "outputs": [],
   "source": [
    "from sklearn.svm import SVC"
   ]
  },
  {
   "cell_type": "code",
   "execution_count": 57,
   "metadata": {
    "id": "3DCvlNRd1tVR"
   },
   "outputs": [
    {
     "name": "stdout",
     "output_type": "stream",
     "text": [
      "[0.75       0.57142857 0.42857143 0.71428571 0.71428571]\n",
      "[0.75       0.71428571 0.71428571 0.57142857 0.71428571]\n",
      "[0.625      0.42857143 0.57142857 0.85714286 0.57142857]\n",
      "[0.71428571 0.71428571 0.71428571 0.71428571 0.71428571]\n",
      "[0.71428571 0.71428571 0.71428571 0.71428571 0.71428571]\n",
      "0.787063492063492\n"
     ]
    }
   ],
   "source": [
    "svc_m = SVC(random_state=17)\n",
    "\n",
    "\n",
    "for train_index, test_index in skf.split(x, y):\n",
    "    X_train, X_test = x[train_index], x[test_index]\n",
    "    y_train, y_test = y[train_index], y[test_index]\n",
    "    svc_model = svc_m.fit(X_train, y_train)\n",
    "    y_predict = svc_model.predict(X_test)\n",
    "    accur_score.append(accuracy_score(y_test, y_predict))\n",
    "    print(cross_val_score(svc_model, X_test, y_test, cv=5))\n",
    "print(np.mean(accur_score))\n",
    "\n",
    "\n"
   ]
  },
  {
   "cell_type": "markdown",
   "metadata": {
    "id": "xMvjv6pR1tVX"
   },
   "source": [
    "Как видно из полученной метрики, на тестовой выборке метод с гиперпараметрами по умолчанию работает явно намного хуже логистической регрессии. В целом, SVM достаточно плохо масштабируется на размер обучающего набора данных (как видно, даже с тремя признаками он работает не очень хорошо), но благодаря возможности выбора различных ядер (функций близости, которые помогают разделять данные) и другим гиперпараметрам SVM можно достаточно точно настроить под определенный вид данных. Подробнее на этом останавливаться в контексте данного урока не будем."
   ]
  },
  {
   "cell_type": "markdown",
   "metadata": {
    "id": "0LqZbdk31tVY"
   },
   "source": [
    "### 4.\n",
    "Для предсказаний обеих моделей постройте матрицу ошибок (confusion matrix) и напишите, какие классы каждая из моделей путает больше всего между собой."
   ]
  },
  {
   "cell_type": "code",
   "execution_count": 60,
   "metadata": {
    "id": "5dRSK--u1tVY"
   },
   "outputs": [],
   "source": [
    "from sklearn.metrics import classification_report, confusion_matrix"
   ]
  },
  {
   "cell_type": "code",
   "execution_count": 65,
   "metadata": {
    "id": "VkXUKkhp1tVb"
   },
   "outputs": [
    {
     "name": "stdout",
     "output_type": "stream",
     "text": [
      "Матрица ошибок для LogisticRegression:\n",
      "[[53  0  6]\n",
      " [ 4 56 11]\n",
      " [ 5 29 14]]\n",
      "Матрица ошибок для SVC:\n",
      "[[53  0  6]\n",
      " [ 4 56 11]\n",
      " [ 5 29 14]]\n"
     ]
    }
   ],
   "source": [
    "y_predict1 = lr_model.predict(x)\n",
    "con_mat = confusion_matrix(y, y_predict)\n",
    "print('Матрица ошибок для LogisticRegression:')\n",
    "print(con_mat)\n",
    "y_predict2 = svc_model.predict(x)\n",
    "con_mat = confusion_matrix(y, y_predict)\n",
    "print('Матрица ошибок для SVC:')\n",
    "print(con_mat)\n",
    "#Как видим LogisticRegression лишь немного путает класс_1 с класс_0 и класс_2. Нулевой же и второй классы \n",
    "#распознаются достаточно точно\n",
    "#SVC же метод имеет значительно хужудшие результаты и относит много объектов первого класа к второму и наоборот.\n"
   ]
  },
  {
   "cell_type": "markdown",
   "metadata": {
    "id": "mqW8if321tVd"
   },
   "source": [
    "### 5.\n",
    "Для каждой модели выведите classification report."
   ]
  },
  {
   "cell_type": "code",
   "execution_count": 67,
   "metadata": {
    "id": "iuu7neuS1tVe"
   },
   "outputs": [
    {
     "name": "stdout",
     "output_type": "stream",
     "text": [
      "Рапорт LogisticRegression: \n",
      "              precision    recall  f1-score   support\n",
      "\n",
      "           0       0.95      0.97      0.96        59\n",
      "           1       0.91      0.86      0.88        71\n",
      "           2       0.86      0.92      0.89        48\n",
      "\n",
      "    accuracy                           0.91       178\n",
      "   macro avg       0.91      0.91      0.91       178\n",
      "weighted avg       0.91      0.91      0.91       178\n",
      "\n",
      "Рапорт SVC: \n",
      "              precision    recall  f1-score   support\n",
      "\n",
      "           0       0.85      0.90      0.88        59\n",
      "           1       0.66      0.79      0.72        71\n",
      "           2       0.45      0.29      0.35        48\n",
      "\n",
      "    accuracy                           0.69       178\n",
      "   macro avg       0.66      0.66      0.65       178\n",
      "weighted avg       0.67      0.69      0.67       178\n",
      "\n"
     ]
    }
   ],
   "source": [
    "print('Рапорт LogisticRegression: ')\n",
    "print(classification_report(y, y_predict1)) \n",
    "print('Рапорт SVC: ')\n",
    "print(classification_report(y, y_predict2))\n",
    "\n",
    "\n",
    "\n",
    "\n"
   ]
  },
  {
   "cell_type": "code",
   "execution_count": null,
   "metadata": {},
   "outputs": [],
   "source": []
  }
 ],
 "metadata": {
  "colab": {
   "collapsed_sections": [],
   "name": "Копия блокнота \"homework_classification-2_les-2.ipynb\"",
   "provenance": []
  },
  "kernelspec": {
   "display_name": "Python 3",
   "language": "python",
   "name": "python3"
  },
  "language_info": {
   "codemirror_mode": {
    "name": "ipython",
    "version": 3
   },
   "file_extension": ".py",
   "mimetype": "text/x-python",
   "name": "python",
   "nbconvert_exporter": "python",
   "pygments_lexer": "ipython3",
   "version": "3.8.5"
  }
 },
 "nbformat": 4,
 "nbformat_minor": 1
}
