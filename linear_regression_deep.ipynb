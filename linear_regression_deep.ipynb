{
 "cells": [
  {
   "cell_type": "code",
   "execution_count": null,
   "metadata": {},
   "outputs": [],
   "source": [
    "# визуализировать набор точек\n",
    "# нахождение коэффициенты регрессии  w0,w1  по шагам\n",
    "# посчитать предсказание в виде  y^=w0+w1x  и визуализировать его вместе с точками x_hw и y_hw"
   ]
  },
  {
   "cell_type": "code",
   "execution_count": 1,
   "metadata": {},
   "outputs": [],
   "source": [
    "x_hw = [50, 60, 70, 100]\n",
    "y_hw = [10, 15, 40, 45]"
   ]
  },
  {
   "cell_type": "code",
   "execution_count": 16,
   "metadata": {},
   "outputs": [
    {
     "data": {
      "image/png": "[encoded data removed]",
      "text/plain": [
       "<Figure size 432x288 with 1 Axes>"
      ]
     },
     "metadata": {
      "needs_background": "light"
     },
     "output_type": "display_data"
    }
   ],
   "source": [
    "from matplotlib import pyplot as plt\n",
    "\n",
    "%matplotlib inline\n",
    "plt.scatter(x_hw, y_hw, 100, 'b', 'o', alpha=0.9)\n",
    "plt.show()"
   ]
  },
  {
   "cell_type": "code",
   "execution_count": 22,
   "metadata": {},
   "outputs": [],
   "source": [
    "import numpy as np\n",
    "x_hw=np.array([[1, 50],[1, 60],[1, 70],[1, 100]])\n",
    "y_hw=np.array(y_hw)"
   ]
  },
  {
   "cell_type": "code",
   "execution_count": 28,
   "metadata": {},
   "outputs": [
    {
     "name": "stdout",
     "output_type": "stream",
     "text": [
      "w_1=-22.500, w_2=0.714\n"
     ]
    }
   ],
   "source": [
    "from numpy.linalg import inv\n",
    "\n",
    "X_T_X = (x_hw.T).dot(x_hw)\n",
    "X_T_X\n",
    "X_T_X_inverted = inv(X_T_X)\n",
    "w = X_T_X_inverted.dot(x_hw.T).dot(y_hw)\n",
    "\n",
    "print(\"w_1=%.3f, w_2=%.3f\" % (w[0],w[1]))"
   ]
  },
  {
   "cell_type": "code",
   "execution_count": 46,
   "metadata": {},
   "outputs": [
    {
     "data": {
      "text/plain": [
       "array([10, 15, 40, 45])"
      ]
     },
     "execution_count": 46,
     "metadata": {},
     "output_type": "execute_result"
    }
   ],
   "source": [
    "from matplotlib import pyplot as plt\n",
    "import numpy as np\n",
    "\n",
    "%matplotlib inline\n",
    "\n",
    "# задаём границы координатных осей\n",
    "margin = 10\n",
    "X_min = 40\n",
    "X_max = x_hw[:,1].max()+margin\n",
    "\n",
    "# набор точек, чтобы нарисовать прямую\n",
    "X_support = np.linspace(X_min, X_max, num=100)\n",
    "# предсказания нашей модели\n",
    "Y_model = w[0] + w[1]*X_support\n",
    "y_hw[:]"
   ]
  },
  {
   "cell_type": "code",
   "execution_count": 47,
   "metadata": {},
   "outputs": [
    {
     "data": {
      "image/png": "[encoded data removed]",
      "text/plain": [
       "<Figure size 432x288 with 1 Axes>"
      ]
     },
     "metadata": {
      "needs_background": "light"
     },
     "output_type": "display_data"
    }
   ],
   "source": [
    "# настройка графика \n",
    "plt.xlim(X_min, X_max)\n",
    "plt.ylim(0, Y_model[:].max() + margin)\n",
    "# рисуем исходные точки\n",
    "plt.scatter(x_hw[:,1], y_hw[:], 40, 'g', 'o', alpha=0.8)\n",
    "# предсказания модели\n",
    "plt.plot(X_support, Y_model)\n",
    "\n",
    "plt.show()"
   ]
  },
  {
   "cell_type": "code",
   "execution_count": 49,
   "metadata": {},
   "outputs": [],
   "source": [
    "# есть два набора точек – истинные значения y_true и предсказанные значения y_pred\n",
    "\n",
    "# для каждой точки из y_true постройте величину ошибки  e=y−y^  – это называется остатки регрессии\n",
    "# возведите ошибки в квадрат  e2 \n",
    "# постройте график ошибок – зависимость  e2  от  e"
   ]
  },
  {
   "cell_type": "code",
   "execution_count": 50,
   "metadata": {},
   "outputs": [],
   "source": [
    "import numpy as np\n",
    "\n",
    "y_pred_ = np.array([30.0, 25.03, 30.57, 28.61, 27.94, 25.26, 23.0, 19.54, 11.52, 18.92, 19.0, 21.59, 20.91, 19.55, 19.28, 19.3, 20.53, 16.91, 16.18, 18.41, 12.52, 17.67, 15.83, 13.81, 15.68, 13.39, 15.46, 14.71, 19.55, 20.88, 11.46, 18.06, 8.81, 14.28, 13.71, 23.81, 22.34, 23.11, 22.92, 31.36])\n",
    "y_true_ = np.array([24.0, 21.6, 34.7, 33.4, 36.2, 28.7, 22.9, 27.1, 16.5, 18.9, 15.0, 18.9, 21.7, 20.4, 18.2, 19.9, 23.1, 17.5, 20.2, 18.2, 13.6, 19.6, 15.2, 14.5, 15.6, 13.9, 16.6, 14.8, 18.4, 21.0, 12.7, 14.5, 13.2, 13.1, 13.5, 18.9, 20.0, 21.0, 24.7, 30.8])"
   ]
  },
  {
   "cell_type": "code",
   "execution_count": 98,
   "metadata": {},
   "outputs": [],
   "source": [
    "#MAE\n",
    "def ma_error(y_true, y_pred):\n",
    "    mae=0\n",
    "    i=0\n",
    "    ar_er = list()\n",
    "    for true in y_true:\n",
    "        mae+=np.abs(true - y_pred[i])\n",
    "        ar_er.append((true - y_pred[i]))\n",
    "        i+=1\n",
    "    return mae/i, ar_er"
   ]
  },
  {
   "cell_type": "code",
   "execution_count": 99,
   "metadata": {},
   "outputs": [
    {
     "data": {
      "text/plain": [
       "array([-6.  , -3.43,  4.13,  4.79,  8.26,  3.44, -0.1 ,  7.56,  4.98,\n",
       "       -0.02, -4.  , -2.69,  0.79,  0.85, -1.08,  0.6 ,  2.57,  0.59,\n",
       "        4.02, -0.21,  1.08,  1.93, -0.63,  0.69, -0.08,  0.51,  1.14,\n",
       "        0.09, -1.15,  0.12,  1.24, -3.56,  4.39, -1.18, -0.21, -4.91,\n",
       "       -2.34, -2.11,  1.78, -0.56])"
      ]
     },
     "execution_count": 99,
     "metadata": {},
     "output_type": "execute_result"
    }
   ],
   "source": [
    "mae, ar_er = ma_error(y_true_, y_pred_)\n",
    "ar_er = np.array(ar_er)\n",
    "ar_er"
   ]
  },
  {
   "cell_type": "code",
   "execution_count": 96,
   "metadata": {},
   "outputs": [],
   "source": [
    "#RMSE\n",
    "def rms_error(y_true, y_pred):\n",
    "    rmse=0\n",
    "    i=0\n",
    "    rms_er = list()\n",
    "    for true in y_true:\n",
    "        rmse+=(true-y_pred[i])**2\n",
    "        rms_er.append((true-y_pred[i])**2)\n",
    "        i+=1\n",
    "    return rmse/i, rms_er"
   ]
  },
  {
   "cell_type": "code",
   "execution_count": 97,
   "metadata": {},
   "outputs": [
    {
     "data": {
      "text/plain": [
       "array([3.60000e+01, 1.17649e+01, 1.70569e+01, 2.29441e+01, 6.82276e+01,\n",
       "       1.18336e+01, 1.00000e-02, 5.71536e+01, 2.48004e+01, 4.00000e-04,\n",
       "       1.60000e+01, 7.23610e+00, 6.24100e-01, 7.22500e-01, 1.16640e+00,\n",
       "       3.60000e-01, 6.60490e+00, 3.48100e-01, 1.61604e+01, 4.41000e-02,\n",
       "       1.16640e+00, 3.72490e+00, 3.96900e-01, 4.76100e-01, 6.40000e-03,\n",
       "       2.60100e-01, 1.29960e+00, 8.10000e-03, 1.32250e+00, 1.44000e-02,\n",
       "       1.53760e+00, 1.26736e+01, 1.92721e+01, 1.39240e+00, 4.41000e-02,\n",
       "       2.41081e+01, 5.47560e+00, 4.45210e+00, 3.16840e+00, 3.13600e-01])"
      ]
     },
     "execution_count": 97,
     "metadata": {},
     "output_type": "execute_result"
    }
   ],
   "source": [
    "rmse, rmse_er = rms_error(y_true_, y_pred_)\n",
    "rmse_er=np.array(rmse_er)\n",
    "rmse_er"
   ]
  },
  {
   "cell_type": "code",
   "execution_count": 102,
   "metadata": {},
   "outputs": [],
   "source": [
    "# Даны точки  x  и значения в этих точках  y . Нормализуйте  y  с помощью z-score  \n",
    "# постройте график зависимости нормализованных значений от  x . Для графика используйте .scatter(x,y_tansformed)\n",
    "\n",
    "from matplotlib import pyplot as plt\n",
    "\n",
    "%matplotlib inline\n",
    "\n",
    "ids = np.argsort(ar_er)"
   ]
  },
  {
   "cell_type": "code",
   "execution_count": 103,
   "metadata": {},
   "outputs": [
    {
     "data": {
      "image/png": "[encoded data removed]",
      "text/plain": [
       "<Figure size 432x288 with 1 Axes>"
      ]
     },
     "metadata": {
      "needs_background": "light"
     },
     "output_type": "display_data"
    }
   ],
   "source": [
    "plt.scatter(ar_er[ids], rmse_er[ids])\n",
    "plt.show()"
   ]
  },
  {
   "cell_type": "code",
   "execution_count": 110,
   "metadata": {},
   "outputs": [
    {
     "data": {
      "image/png": "[encoded data removed]",
      "text/plain": [
       "<Figure size 432x288 with 1 Axes>"
      ]
     },
     "metadata": {
      "needs_background": "light"
     },
     "output_type": "display_data"
    }
   ],
   "source": [
    "import numpy as np\n",
    "from sklearn.preprocessing import StandardScaler\n",
    "from matplotlib import pyplot as plt\n",
    "\n",
    "x = np.linspace(1,10,num=10)\n",
    "y = np.array(\n",
    "    [1.,  3.,  4.,  2., 10.,  5.,  5.,  2.,  5., 10.],\n",
    "    dtype=np.float32\n",
    ")\n",
    "\n",
    "plt.scatter(x,y)\n",
    "plt.show()"
   ]
  },
  {
   "cell_type": "code",
   "execution_count": 115,
   "metadata": {},
   "outputs": [
    {
     "name": "stdout",
     "output_type": "stream",
     "text": [
      "6.409696969696971\n"
     ]
    }
   ],
   "source": [
    "from sklearn.linear_model import LinearRegression\n",
    "from sklearn.metrics import r2_score, mean_squared_error\n",
    "\n",
    "reg = LinearRegression().fit(x.reshape(-1, 1), y)\n",
    "y_pred = reg.predict(x.reshape(-1,1))\n",
    "\n",
    "print(mean_squared_error(y, y_pred))"
   ]
  },
  {
   "cell_type": "code",
   "execution_count": 117,
   "metadata": {},
   "outputs": [
    {
     "name": "stdout",
     "output_type": "stream",
     "text": [
      "Сырой датасет: [ 1.  3.  4.  2. 10.  5.  5.  2.  5. 10.]\n",
      "z-transform датасет: [-1.2465616  -0.57274455 -0.23583598 -0.9096531   1.7856153   0.10107257\n",
      "  0.10107257 -0.9096531   0.10107257  1.7856153 ]\n"
     ]
    }
   ],
   "source": [
    "transformed_data = StandardScaler().fit_transform(y.reshape(-1, 1)).reshape(-1) \n",
    "print(\"Сырой датасет: %s\" % y)\n",
    "print(\"z-transform датасет: %s\" % transformed_data)"
   ]
  },
  {
   "cell_type": "code",
   "execution_count": 118,
   "metadata": {},
   "outputs": [
    {
     "data": {
      "image/png": "[encoded data removed]",
      "text/plain": [
       "<Figure size 432x288 with 1 Axes>"
      ]
     },
     "metadata": {
      "needs_background": "light"
     },
     "output_type": "display_data"
    }
   ],
   "source": [
    "plt.scatter(x, transformed_data)\n",
    "plt.show()"
   ]
  },
  {
   "cell_type": "code",
   "execution_count": 121,
   "metadata": {},
   "outputs": [
    {
     "name": "stdout",
     "output_type": "stream",
     "text": [
      "0.7275478747454484\n"
     ]
    }
   ],
   "source": [
    "reg = LinearRegression().fit(x.reshape(-1, 1), transformed_data)\n",
    "y_pred = reg.predict(x.reshape(-1,1))\n",
    "\n",
    "print(mean_squared_error(transformed_data, y_pred))"
   ]
  },
  {
   "cell_type": "markdown",
   "metadata": {},
   "source": [
    "*Возьмите все степени от 1 до 10 по порядку, без пропусков.\n",
    "\n",
    "*Найдите степень полинома, где будет лучший r2-score.\n",
    "\n",
    "*Напишите код, который выводит самую подходящую степень полинома и соответствующий ей скор.\n",
    "\n",
    "Эта процедура называется Grid Search и помогает найти лучшие параметры для модели.\n",
    "\n",
    "Обучите лучшую модель и сделайте predict"
   ]
  },
  {
   "cell_type": "code",
   "execution_count": 5,
   "metadata": {},
   "outputs": [],
   "source": [
    "import pandas as pd\n",
    "import numpy as np\n",
    "from sklearn.datasets import load_boston\n",
    "from sklearn.metrics import r2_score\n",
    "from sklearn.linear_model import LinearRegression\n",
    "\n",
    "def generate_degrees(source_data: list, degree: int):\n",
    "    \"\"\"Функция, которая принимает на вход одномерный массив, а возвращает n-мерный    \n",
    "    Для каждой степени от 1 до  degree возводим x в эту степень \"\"\"\n",
    "    return np.array([\n",
    "          source_data**n for n in range(1, degree + 1)  \n",
    "    ]).T"
   ]
  },
  {
   "cell_type": "code",
   "execution_count": 6,
   "metadata": {},
   "outputs": [],
   "source": [
    "def train_polynomial(degree, data, result):\n",
    "    \n",
    "    X = generate_degrees(data, degree)\n",
    "\n",
    "    model = LinearRegression().fit(X, result)\n",
    "    y_pred = model.predict(X)\n",
    "\n",
    "    error = r2_score(result, y_pred)\n",
    "    print(\"Степень полинома %d Ошибка %.3f\" % (degree, error))\n",
    "\n",
    "    plt.scatter(data, result, 10, 'g', 'o', alpha=0.8, label='data')\n",
    "    plt.plot(data, y_pred)"
   ]
  },
  {
   "cell_type": "code",
   "execution_count": 7,
   "metadata": {},
   "outputs": [
    {
     "name": "stdout",
     "output_type": "stream",
     "text": [
      "\n",
      "Целевая переменная y (размерность): 506\n",
      "Степень полинома 8 Ошибка 0.220\n"
     ]
    },
    {
     "ename": "NameError",
     "evalue": "name 'plt' is not defined",
     "output_type": "error",
     "traceback": [
      "\u001b[1;31m---------------------------------------------------------------------------\u001b[0m",
      "\u001b[1;31mNameError\u001b[0m                                 Traceback (most recent call last)",
      "\u001b[1;32m<ipython-input-7-3922b5585176>\u001b[0m in \u001b[0;36m<module>\u001b[1;34m\u001b[0m\n\u001b[0;32m      9\u001b[0m \u001b[1;31m# for i in range(25):\u001b[0m\u001b[1;33m\u001b[0m\u001b[1;33m\u001b[0m\u001b[1;33m\u001b[0m\u001b[0m\n\u001b[0;32m     10\u001b[0m \u001b[0mdegree\u001b[0m\u001b[1;33m=\u001b[0m\u001b[1;36m8\u001b[0m\u001b[1;33m\u001b[0m\u001b[1;33m\u001b[0m\u001b[0m\n\u001b[1;32m---> 11\u001b[1;33m \u001b[0mtrain_polynomial\u001b[0m\u001b[1;33m(\u001b[0m\u001b[0mdegree\u001b[0m\u001b[1;33m,\u001b[0m \u001b[0mfeatures\u001b[0m\u001b[1;33m,\u001b[0m \u001b[0my\u001b[0m\u001b[1;33m)\u001b[0m\u001b[1;33m\u001b[0m\u001b[1;33m\u001b[0m\u001b[0m\n\u001b[0m",
      "\u001b[1;32m<ipython-input-6-215962150a39>\u001b[0m in \u001b[0;36mtrain_polynomial\u001b[1;34m(degree, data, result)\u001b[0m\n\u001b[0;32m      9\u001b[0m     \u001b[0mprint\u001b[0m\u001b[1;33m(\u001b[0m\u001b[1;34m\"Степень полинома %d Ошибка %.3f\"\u001b[0m \u001b[1;33m%\u001b[0m \u001b[1;33m(\u001b[0m\u001b[0mdegree\u001b[0m\u001b[1;33m,\u001b[0m \u001b[0merror\u001b[0m\u001b[1;33m)\u001b[0m\u001b[1;33m)\u001b[0m\u001b[1;33m\u001b[0m\u001b[1;33m\u001b[0m\u001b[0m\n\u001b[0;32m     10\u001b[0m \u001b[1;33m\u001b[0m\u001b[0m\n\u001b[1;32m---> 11\u001b[1;33m     \u001b[0mplt\u001b[0m\u001b[1;33m.\u001b[0m\u001b[0mscatter\u001b[0m\u001b[1;33m(\u001b[0m\u001b[0mdata\u001b[0m\u001b[1;33m,\u001b[0m \u001b[0mresult\u001b[0m\u001b[1;33m,\u001b[0m \u001b[1;36m10\u001b[0m\u001b[1;33m,\u001b[0m \u001b[1;34m'g'\u001b[0m\u001b[1;33m,\u001b[0m \u001b[1;34m'o'\u001b[0m\u001b[1;33m,\u001b[0m \u001b[0malpha\u001b[0m\u001b[1;33m=\u001b[0m\u001b[1;36m0.8\u001b[0m\u001b[1;33m,\u001b[0m \u001b[0mlabel\u001b[0m\u001b[1;33m=\u001b[0m\u001b[1;34m'data'\u001b[0m\u001b[1;33m)\u001b[0m\u001b[1;33m\u001b[0m\u001b[1;33m\u001b[0m\u001b[0m\n\u001b[0m\u001b[0;32m     12\u001b[0m     \u001b[0mplt\u001b[0m\u001b[1;33m.\u001b[0m\u001b[0mplot\u001b[0m\u001b[1;33m(\u001b[0m\u001b[0mdata\u001b[0m\u001b[1;33m,\u001b[0m \u001b[0my_pred\u001b[0m\u001b[1;33m)\u001b[0m\u001b[1;33m\u001b[0m\u001b[1;33m\u001b[0m\u001b[0m\n",
      "\u001b[1;31mNameError\u001b[0m: name 'plt' is not defined"
     ]
    }
   ],
   "source": [
    "boston_dataset = load_boston()\n",
    "\n",
    "features = boston_dataset.data[:, 0]\n",
    "y = boston_dataset.target\n",
    "\n",
    "# print(features)\n",
    "print('\\nЦелевая переменная y (размерность): %s' % y.shape)\n",
    "\n",
    "# for i in range(25):\n",
    "degree=8\n",
    "train_polynomial(degree, features, y)\n"
   ]
  },
  {
   "cell_type": "markdown",
   "metadata": {},
   "source": [
    "Напишите класс для обучения модели, который содержит:\n",
    "\n",
    "функцию .fit(X, y) , которая принимает на вход массив фичей X, массив таргетов y и обучает коэффициенты регрессии. Код для обучения взять из первого урока модуля Постановка ML задачи линейной регрессии\n",
    "функцию .predict(X), которая по массиву фичей X возвращает массив предсказаний y\n",
    "Нужно использовать код для аналитически вычисляемых коэффициентов."
   ]
  },
  {
   "cell_type": "code",
   "execution_count": 150,
   "metadata": {},
   "outputs": [],
   "source": [
    "from numpy.linalg import inv\n",
    "\n",
    "class CustomLinearReg(object):\n",
    "    def __init__(self, data, result, degree):\n",
    "        self.X = data\n",
    "        self.y = result\n",
    "        self.i = degree\n",
    "        self.w_analytic = list()\n",
    "    def fit(self):\n",
    "        self.w_analytic = inv(self.X.T.dot(self.X)).dot(self.X.T).dot(self.y)\n",
    "        print( self.w_analytic)\n",
    "    def predict(self, X):\n",
    "        self.y_pred = list()\n",
    "        for l in self.X:\n",
    "            for k in range(self.i):\n",
    "                y_part=self.w_analitic[k]*l[k]\n",
    "                y_part+=y_part\n",
    "            self.y_pred.append(y_part)\n",
    "            y_part=0\n",
    "        return self.y_pred"
   ]
  },
  {
   "cell_type": "code",
   "execution_count": 153,
   "metadata": {},
   "outputs": [
    {
     "name": "stdout",
     "output_type": "stream",
     "text": [
      "[ 1.57744966 -0.02078817]\n"
     ]
    },
    {
     "ename": "TypeError",
     "evalue": "'NoneType' object is not callable",
     "output_type": "error",
     "traceback": [
      "\u001b[1;31m---------------------------------------------------------------------------\u001b[0m",
      "\u001b[1;31mTypeError\u001b[0m                                 Traceback (most recent call last)",
      "\u001b[1;32m<ipython-input-153-872509bed2ab>\u001b[0m in \u001b[0;36m<module>\u001b[1;34m\u001b[0m\n\u001b[0;32m      4\u001b[0m \u001b[0mmodel\u001b[0m \u001b[1;33m=\u001b[0m \u001b[0mCustomLinearReg\u001b[0m\u001b[1;33m(\u001b[0m\u001b[0mfeatures\u001b[0m\u001b[1;33m,\u001b[0m \u001b[0my\u001b[0m\u001b[1;33m,\u001b[0m \u001b[1;36m2\u001b[0m\u001b[1;33m)\u001b[0m\u001b[1;33m.\u001b[0m\u001b[0mfit\u001b[0m\u001b[1;33m(\u001b[0m\u001b[1;33m)\u001b[0m\u001b[1;33m\u001b[0m\u001b[1;33m\u001b[0m\u001b[0m\n\u001b[0;32m      5\u001b[0m \u001b[0mmodel\u001b[0m\u001b[1;33m\u001b[0m\u001b[1;33m\u001b[0m\u001b[0m\n\u001b[1;32m----> 6\u001b[1;33m \u001b[0my_pred\u001b[0m \u001b[1;33m=\u001b[0m \u001b[0mmodel\u001b[0m\u001b[1;33m(\u001b[0m\u001b[1;33m)\u001b[0m\u001b[1;33m.\u001b[0m\u001b[0mpredict\u001b[0m\u001b[1;33m(\u001b[0m\u001b[0mfeatures\u001b[0m\u001b[1;33m)\u001b[0m\u001b[1;33m\u001b[0m\u001b[1;33m\u001b[0m\u001b[0m\n\u001b[0m\u001b[0;32m      7\u001b[0m \u001b[1;33m\u001b[0m\u001b[0m\n\u001b[0;32m      8\u001b[0m \u001b[1;31m# w_analytic = inv(\u001b[0m\u001b[1;33m\u001b[0m\u001b[1;33m\u001b[0m\u001b[1;33m\u001b[0m\u001b[0m\n",
      "\u001b[1;31mTypeError\u001b[0m: 'NoneType' object is not callable"
     ]
    }
   ],
   "source": [
    "features = generate_degrees(boston_dataset.data[:, 0], 2)\n",
    "y = boston_dataset.target\n",
    "\n",
    "model = CustomLinearReg(features, y, 2).fit()\n",
    "model\n",
    "y_pred = model().predict(features)\n"
   ]
  },
  {
   "cell_type": "markdown",
   "metadata": {},
   "source": [
    "\n",
    "1. разделите датасет с домами Бостона из Урока 2 (таргет и фичи) на две части: в одной части 80% датасета (назовём train) в другой 20%.\n",
    "2. обучите модель только на train датасете\n",
    "3. постройте предсказания valid датасете\n",
    "4. Посчитайте  `r2 score` на валидационном сете\n",
    "\n",
    "После этого примените к обеим датасетам z-преобразование и повторите шаги 2-4. Как изменилась метрика r2?\n"
   ]
  },
  {
   "cell_type": "code",
   "execution_count": 160,
   "metadata": {},
   "outputs": [],
   "source": [
    "from sklearn.model_selection import train_test_split\n",
    "from sklearn.metrics import r2_score\n",
    "from sklearn.linear_model import LinearRegression\n",
    "\n",
    "boston_dataset = load_boston()\n",
    "\n",
    "features = boston_dataset.data\n",
    "y = boston_dataset.target\n",
    "\n",
    "x_train, x_test, y_train, y_test = train_test_split(features, y, test_size=0.2)"
   ]
  },
  {
   "cell_type": "code",
   "execution_count": 165,
   "metadata": {},
   "outputs": [
    {
     "name": "stdout",
     "output_type": "stream",
     "text": [
      "Ошибка R2Score = 0.7284254644637522\n"
     ]
    }
   ],
   "source": [
    "reg = LinearRegression().fit(x_train, y_train)\n",
    "y_pred = reg.predict(x_test)\n",
    "error = r2_score(y_test, y_pred)\n",
    "print('Ошибка R2Score = {}'.format(error))"
   ]
  },
  {
   "cell_type": "code",
   "execution_count": 175,
   "metadata": {},
   "outputs": [],
   "source": [
    "from sklearn.preprocessing import StandardScaler\n",
    "\n",
    "transformed_data_y_train = StandardScaler().fit_transform(y_train.reshape(-1,1))\n",
    "transformed_data_y_test = StandardScaler().fit_transform(y_test.reshape(-1,1))\n"
   ]
  },
  {
   "cell_type": "code",
   "execution_count": 176,
   "metadata": {},
   "outputs": [
    {
     "name": "stdout",
     "output_type": "stream",
     "text": [
      "Ошибка R2Score = 0.6790159287213718\n"
     ]
    }
   ],
   "source": [
    "reg = LinearRegression().fit(x_train, transformed_data_y)\n",
    "y_pred = reg.predict(x_test)\n",
    "error = r2_score(transformed_data_y_test, y_pred)\n",
    "print('Ошибка R2Score = {}'.format(error))"
   ]
  },
  {
   "cell_type": "code",
   "execution_count": null,
   "metadata": {},
   "outputs": [],
   "source": []
  }
 ],
 "metadata": {
  "kernelspec": {
   "display_name": "Python 3",
   "language": "python",
   "name": "python3"
  },
  "language_info": {
   "codemirror_mode": {
    "name": "ipython",
    "version": 3
   },
   "file_extension": ".py",
   "mimetype": "text/x-python",
   "name": "python",
   "nbconvert_exporter": "python",
   "pygments_lexer": "ipython3",
   "version": "3.8.5"
  }
 },
 "nbformat": 4,
 "nbformat_minor": 4
}
